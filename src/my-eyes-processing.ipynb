{
 "cells": [
  {
   "cell_type": "code",
   "execution_count": 4,
   "metadata": {},
   "outputs": [
    {
     "name": "stdout",
     "output_type": "stream",
     "text": [
      "\n",
      "0: 384x640 12 persons, 4 handbags, 56.2ms\n",
      "Speed: 2.1ms preprocess, 56.2ms inference, 0.8ms postprocess per image at shape (1, 3, 384, 640)\n",
      "['person', 'person', 'person', 'person', 'person', 'person', 'person', 'person', 'person', 'person', 'handbag', 'handbag', 'person', 'person', 'handbag', 'handbag']\n"
     ]
    },
    {
     "name": "stderr",
     "output_type": "stream",
     "text": [
      "2025-02-07 20:03:25.541 Python[53759:10844225] WARNING: Secure coding is not enabled for restorable state! Enable secure coding by implementing NSApplicationDelegate.applicationSupportsSecureRestorableState: and returning YES.\n"
     ]
    },
    {
     "ename": "KeyboardInterrupt",
     "evalue": "",
     "output_type": "error",
     "traceback": [
      "\u001b[0;31m---------------------------------------------------------------------------\u001b[0m",
      "\u001b[0;31mKeyboardInterrupt\u001b[0m                         Traceback (most recent call last)",
      "\u001b[1;32m/Users/albertluo/Desktop/edu/cmu/my-eyes/src/my-eyes-processing.ipynb Cell 1\u001b[0m line \u001b[0;36m2\n\u001b[1;32m     <a href='vscode-notebook-cell:/Users/albertluo/Desktop/edu/cmu/my-eyes/src/my-eyes-processing.ipynb#W2sZmlsZQ%3D%3D?line=22'>23</a>\u001b[0m cv2\u001b[39m.\u001b[39mimwrite(\u001b[39m\"\u001b[39m\u001b[39moutput.jpg\u001b[39m\u001b[39m\"\u001b[39m, image)\n\u001b[1;32m     <a href='vscode-notebook-cell:/Users/albertluo/Desktop/edu/cmu/my-eyes/src/my-eyes-processing.ipynb#W2sZmlsZQ%3D%3D?line=23'>24</a>\u001b[0m cv2\u001b[39m.\u001b[39mimshow(\u001b[39m\"\u001b[39m\u001b[39mYOLO Detection\u001b[39m\u001b[39m\"\u001b[39m, image)\n\u001b[0;32m---> <a href='vscode-notebook-cell:/Users/albertluo/Desktop/edu/cmu/my-eyes/src/my-eyes-processing.ipynb#W2sZmlsZQ%3D%3D?line=24'>25</a>\u001b[0m cv2\u001b[39m.\u001b[39;49mwaitKey(\u001b[39m0\u001b[39;49m)\n\u001b[1;32m     <a href='vscode-notebook-cell:/Users/albertluo/Desktop/edu/cmu/my-eyes/src/my-eyes-processing.ipynb#W2sZmlsZQ%3D%3D?line=25'>26</a>\u001b[0m cv2\u001b[39m.\u001b[39mdestroyAllWindows()\n\u001b[1;32m     <a href='vscode-notebook-cell:/Users/albertluo/Desktop/edu/cmu/my-eyes/src/my-eyes-processing.ipynb#W2sZmlsZQ%3D%3D?line=27'>28</a>\u001b[0m \u001b[39m## for video input:\u001b[39;00m\n\u001b[1;32m     <a href='vscode-notebook-cell:/Users/albertluo/Desktop/edu/cmu/my-eyes/src/my-eyes-processing.ipynb#W2sZmlsZQ%3D%3D?line=28'>29</a>\u001b[0m \n\u001b[1;32m     <a href='vscode-notebook-cell:/Users/albertluo/Desktop/edu/cmu/my-eyes/src/my-eyes-processing.ipynb#W2sZmlsZQ%3D%3D?line=29'>30</a>\u001b[0m \u001b[39m# # Open the video file\u001b[39;00m\n\u001b[0;32m   (...)\u001b[0m\n\u001b[1;32m     <a href='vscode-notebook-cell:/Users/albertluo/Desktop/edu/cmu/my-eyes/src/my-eyes-processing.ipynb#W2sZmlsZQ%3D%3D?line=72'>73</a>\u001b[0m \u001b[39m# out.release()\u001b[39;00m\n\u001b[1;32m     <a href='vscode-notebook-cell:/Users/albertluo/Desktop/edu/cmu/my-eyes/src/my-eyes-processing.ipynb#W2sZmlsZQ%3D%3D?line=73'>74</a>\u001b[0m \u001b[39m# cv2.destroyAllWindows()\u001b[39;00m\n",
      "\u001b[0;31mKeyboardInterrupt\u001b[0m: "
     ]
    },
    {
     "ename": "",
     "evalue": "",
     "output_type": "error",
     "traceback": [
      "\u001b[1;31mThe Kernel crashed while executing code in the the current cell or a previous cell. Please review the code in the cell(s) to identify a possible cause of the failure. Click <a href='https://aka.ms/vscodeJupyterKernelCrash'>here</a> for more info. View Jupyter <a href='command:jupyter.viewOutput'>log</a> for further details."
     ]
    }
   ],
   "source": [
    "import cv2\n",
    "import pickle\n",
    "from ultralytics import YOLO\n",
    "\n",
    "model = YOLO(\"yolov8n.pt\")\n",
    "\n",
    "## for frame-by-frame input:\n",
    "image_path = \"/Users/albertluo/Desktop/edu/cmu/my-eyes/random-test-stuff/105000590_prevstillhigh.jpeg\"\n",
    "image = cv2.imread(image_path)\n",
    "\n",
    "results = model(image)\n",
    "\n",
    "detected = []\n",
    "\n",
    "for result in results:\n",
    "    for box in result.boxes:\n",
    "        x1, y1, x2, y2 = map(int, box.xyxy[0])\n",
    "        cls = int(box.cls[0])\n",
    "        detected.append(f\"{model.names[cls]}\")\n",
    "        cv2.rectangle(image, (x1, y1), (x2, y2), 255, 2)\n",
    "        area = abs((x1 - x2) * (y1 - y2))\n",
    "        cv2.putText(image, f\"area: {area}\", (x1, y1 - 10), cv2.FONT_HERSHEY_SIMPLEX, 0.5, (0, 255, 0), 2)\n",
    "\n",
    "print(detected)\n",
    "cv2.imwrite(\"output.jpg\", image)\n",
    "cv2.imshow(\"YOLO Detection\", image)\n",
    "cv2.waitKey(0)\n",
    "cv2.destroyAllWindows()\n",
    "\n",
    "## for video input:\n",
    "\n",
    "# # Open the video file\n",
    "# video_path = \"/Users/albertluo/Desktop/edu/cmu/my-eyes/random-test-stuff/People Walking Free Stock Footage, Royalty-Free No Copyright Content 720.mp4\"\n",
    "# cap = cv2.VideoCapture(video_path)\n",
    "\n",
    "# # Get video properties\n",
    "# frame_width = int(cap.get(3))\n",
    "# frame_height = int(cap.get(4))\n",
    "# fps = int(cap.get(cv2.CAP_PROP_FPS))\n",
    "\n",
    "# # Define the codec and create VideoWriter to save output\n",
    "# out = cv2.VideoWriter(\"random_people_walking_output_video.mp4\", cv2.VideoWriter_fourcc(*'mp4v'), fps, (frame_width, frame_height))\n",
    "\n",
    "# # Process video frame by frame\n",
    "# while cap.isOpened():\n",
    "#     success, frame = cap.read()\n",
    "#     if not success:\n",
    "#         break  # Break if video ends\n",
    "\n",
    "#     # Run YOLO on the frame\n",
    "#     results = model(frame)\n",
    "\n",
    "#     # Draw bounding boxes\n",
    "#     for result in results:\n",
    "#         for box in result.boxes:\n",
    "#             x1, y1, x2, y2 = map(int, box.xyxy[0])  # Bounding box coordinates\n",
    "#             conf = box.conf[0].item()  # Confidence score\n",
    "#             cls = int(box.cls[0])  # Class index\n",
    "#             label = f\"{model.names[cls]} {conf:.2f}\"\n",
    "\n",
    "#             # Draw rectangle and label\n",
    "#             cv2.rectangle(frame, (x1, y1), (x2, y2), (0, 255, 0), 2)\n",
    "#             cv2.putText(frame, label, (x1, y1 - 10), cv2.FONT_HERSHEY_SIMPLEX, 0.5, (0, 255, 0), 2)\n",
    "\n",
    "#     # Write the frame to output video\n",
    "#     out.write(frame)\n",
    "\n",
    "#     # Display the frame (optional)\n",
    "#     cv2.imshow(\"YOLO Video\", frame)\n",
    "#     if cv2.waitKey(1) & 0xFF == ord('q'):  # Press 'q' to exit early\n",
    "#         break\n",
    "\n",
    "# # Release resources\n",
    "# cap.release()\n",
    "# out.release()\n",
    "# cv2.destroyAllWindows()\n"
   ]
  }
 ],
 "metadata": {
  "kernelspec": {
   "display_name": "venv",
   "language": "python",
   "name": "python3"
  },
  "language_info": {
   "codemirror_mode": {
    "name": "ipython",
    "version": 3
   },
   "file_extension": ".py",
   "mimetype": "text/x-python",
   "name": "python",
   "nbconvert_exporter": "python",
   "pygments_lexer": "ipython3",
   "version": "3.9.6"
  }
 },
 "nbformat": 4,
 "nbformat_minor": 2
}
